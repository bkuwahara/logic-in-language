{
 "cells": [
  {
   "cell_type": "markdown",
   "metadata": {},
   "source": [
    "# Logical 3-Shot Plus CoT:"
   ]
  },
  {
   "cell_type": "code",
   "execution_count": 27,
   "metadata": {},
   "outputs": [
    {
     "name": "stdout",
     "output_type": "stream",
     "text": [
      "Prediction Accuracy:  0.8770161290322581\n",
      "Failure Rate:  0.008\n"
     ]
    }
   ],
   "source": [
    "import pandas as pd \n",
    "import numpy as np \n",
    "import os \n",
    "\n",
    "os.chdir('/w/246/ikozlov/csc2542-project')\n",
    "\n",
    "# Set results path  \n",
    "test_type = 'logical'\n",
    "results_folder = f'results/{test_type}/TheBloke/llemma_34b-AWQ'\n",
    "results_name = 'results_3shot_cot.csv'\n",
    "file_path = os.path.join(results_folder, results_name)\n",
    "\n",
    "# Read results \n",
    "df = pd.read_csv(file_path)\n",
    "\n",
    "# Convert specifc column to NymPy Array \n",
    "predictions_acc = df['is_correct'].to_numpy() \n",
    "\n",
    "# Calculate average accuracy \n",
    "accuracy = np.nanmean(predictions_acc) \n",
    "failure_rate = np.mean(np.isnan(predictions_acc))\n",
    "print(\"Prediction Accuracy: \", accuracy)\n",
    "print(\"Failure Rate: \", failure_rate)"
   ]
  },
  {
   "cell_type": "markdown",
   "metadata": {},
   "source": [
    "# Logical 3-Shot:"
   ]
  },
  {
   "cell_type": "code",
   "execution_count": 30,
   "metadata": {},
   "outputs": [
    {
     "name": "stdout",
     "output_type": "stream",
     "text": [
      "Prediction Accuracy:  0.7516778523489933\n",
      "Failure Rate:  0.702\n"
     ]
    }
   ],
   "source": [
    "import pandas as pd \n",
    "import numpy as np \n",
    "import os \n",
    "\n",
    "os.chdir('/w/246/ikozlov/csc2542-project')\n",
    "\n",
    "# Set results path  \n",
    "test_type = 'logical'\n",
    "results_folder = f'results/{test_type}/TheBloke/llemma_34b-AWQ'\n",
    "results_name = 'results_3shot.csv'\n",
    "file_path = os.path.join(results_folder, results_name)\n",
    "\n",
    "# Read results \n",
    "df = pd.read_csv(file_path)\n",
    "\n",
    "# Convert specifc column to NymPy Array \n",
    "predictions_acc = df['is_correct'].to_numpy() \n",
    "\n",
    "# Calculate average accuracy \n",
    "accuracy = np.nanmean(predictions_acc) \n",
    "failure_rate = np.mean(np.isnan(predictions_acc))\n",
    "print(\"Prediction Accuracy: \", accuracy)\n",
    "print(\"Failure Rate: \", failure_rate)"
   ]
  },
  {
   "cell_type": "markdown",
   "metadata": {},
   "source": [
    "# Logical 5-Shot Plus CoT:"
   ]
  },
  {
   "cell_type": "code",
   "execution_count": 32,
   "metadata": {},
   "outputs": [
    {
     "name": "stdout",
     "output_type": "stream",
     "text": [
      "Prediction Accuracy:  0.8723404255319149\n",
      "Failure Rate:  0.007042253521126761\n"
     ]
    }
   ],
   "source": [
    "import pandas as pd \n",
    "import numpy as np \n",
    "import os \n",
    "\n",
    "os.chdir('/w/246/ikozlov/csc2542-project')\n",
    "\n",
    "# Set results path  \n",
    "test_type = 'logical'\n",
    "results_folder = f'results/{test_type}/TheBloke/llemma_34b-AWQ'\n",
    "results_name = 'results_5shot_cot.csv'\n",
    "file_path = os.path.join(results_folder, results_name)\n",
    "\n",
    "# Read results \n",
    "df = pd.read_csv(file_path)\n",
    "\n",
    "# Convert specifc column to NymPy Array \n",
    "predictions_acc = df['is_correct'].to_numpy() \n",
    "\n",
    "# Calculate average accuracy \n",
    "accuracy = np.nanmean(predictions_acc) \n",
    "failure_rate = np.mean(np.isnan(predictions_acc))\n",
    "print(\"Prediction Accuracy: \", accuracy)\n",
    "print(\"Failure Rate: \", failure_rate)"
   ]
  },
  {
   "cell_type": "markdown",
   "metadata": {},
   "source": [
    "# Basic 3-Shot"
   ]
  },
  {
   "cell_type": "code",
   "execution_count": 33,
   "metadata": {},
   "outputs": [
    {
     "name": "stdout",
     "output_type": "stream",
     "text": [
      "Prediction Accuracy:  0.644\n",
      "Failure Rate:  0.0\n"
     ]
    }
   ],
   "source": [
    "import pandas as pd \n",
    "import numpy as np \n",
    "import os \n",
    "\n",
    "os.chdir('/w/246/ikozlov/csc2542-project')\n",
    "\n",
    "# Set results path  \n",
    "test_type = 'basic'\n",
    "results_folder = f'results/{test_type}/TheBloke/llemma_34b-AWQ'\n",
    "results_name = 'results_3shot.csv'\n",
    "file_path = os.path.join(results_folder, results_name)\n",
    "\n",
    "# Read results \n",
    "df = pd.read_csv(file_path)\n",
    "\n",
    "# Convert specifc column to NymPy Array \n",
    "predictions_acc = df['is_correct'].to_numpy() \n",
    "\n",
    "# Calculate average accuracy \n",
    "accuracy = np.nanmean(predictions_acc) \n",
    "failure_rate = np.mean(np.isnan(predictions_acc))\n",
    "print(\"Prediction Accuracy: \", accuracy)\n",
    "print(\"Failure Rate: \", failure_rate)"
   ]
  }
 ],
 "metadata": {
  "kernelspec": {
   "display_name": "base",
   "language": "python",
   "name": "python3"
  },
  "language_info": {
   "codemirror_mode": {
    "name": "ipython",
    "version": 3
   },
   "file_extension": ".py",
   "mimetype": "text/x-python",
   "name": "python",
   "nbconvert_exporter": "python",
   "pygments_lexer": "ipython3",
   "version": "3.10.12"
  }
 },
 "nbformat": 4,
 "nbformat_minor": 2
}
