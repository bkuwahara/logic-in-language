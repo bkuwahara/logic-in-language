{
 "cells": [
  {
   "cell_type": "markdown",
   "metadata": {},
   "source": [
    "# Logical 3-Shot Plus CoT:"
   ]
  },
  {
   "cell_type": "code",
   "execution_count": 6,
   "metadata": {},
   "outputs": [
    {
     "name": "stdout",
     "output_type": "stream",
     "text": [
      "Prediction Accuracy:  0.95\n",
      "Failure Rate:  0.0\n"
     ]
    }
   ],
   "source": [
    "import pandas as pd \n",
    "import numpy as np \n",
    "import os \n",
    "\n",
    "os.chdir('/w/246/ikozlov/csc2542-project')\n",
    "\n",
    "# Set results path  \n",
    "test_type = 'logical'\n",
    "results_folder = f'results/{test_type}/TheBloke/llemma_34b-AWQ'\n",
    "results_name = 'results_3shot_cot.csv'\n",
    "file_path = os.path.join(results_folder, results_name)\n",
    "\n",
    "# Read results \n",
    "df = pd.read_csv(file_path)\n",
    "\n",
    "# Convert specifc column to NymPy Array \n",
    "predictions_acc = df['is_correct'].to_numpy() \n",
    "\n",
    "# Calculate average accuracy \n",
    "accuracy = np.nanmean(predictions_acc) \n",
    "failure_rate = np.mean(np.isnan(predictions_acc))\n",
    "print(\"Prediction Accuracy: \", accuracy)\n",
    "print(\"Failure Rate: \", failure_rate)"
   ]
  },
  {
   "cell_type": "markdown",
   "metadata": {},
   "source": [
    "# Logical 3-Shot:"
   ]
  },
  {
   "cell_type": "code",
   "execution_count": 7,
   "metadata": {},
   "outputs": [
    {
     "name": "stdout",
     "output_type": "stream",
     "text": [
      "Prediction Accuracy:  0.6696428571428571\n",
      "Failure Rate:  0.68\n"
     ]
    }
   ],
   "source": [
    "import pandas as pd \n",
    "import numpy as np \n",
    "import os \n",
    "\n",
    "os.chdir('/w/246/ikozlov/csc2542-project')\n",
    "\n",
    "# Set results path  \n",
    "test_type = 'logical'\n",
    "results_folder = f'results/{test_type}/TheBloke/llemma_34b-AWQ'\n",
    "results_name = 'results_3shot.csv'\n",
    "file_path = os.path.join(results_folder, results_name)\n",
    "\n",
    "# Read results \n",
    "df = pd.read_csv(file_path)\n",
    "\n",
    "# Convert specifc column to NymPy Array \n",
    "predictions_acc = df['is_correct'].to_numpy() \n",
    "\n",
    "# Calculate average accuracy \n",
    "accuracy = np.nanmean(predictions_acc) \n",
    "failure_rate = np.mean(np.isnan(predictions_acc))\n",
    "print(\"Prediction Accuracy: \", accuracy)\n",
    "print(\"Failure Rate: \", failure_rate)"
   ]
  },
  {
   "cell_type": "markdown",
   "metadata": {},
   "source": [
    "# Logical 5-Shot Plus CoT:"
   ]
  },
  {
   "cell_type": "code",
   "execution_count": 8,
   "metadata": {},
   "outputs": [
    {
     "name": "stdout",
     "output_type": "stream",
     "text": [
      "Prediction Accuracy:  0.8723404255319149\n",
      "Failure Rate:  0.007042253521126761\n"
     ]
    }
   ],
   "source": [
    "import pandas as pd \n",
    "import numpy as np \n",
    "import os \n",
    "\n",
    "os.chdir('/w/246/ikozlov/csc2542-project')\n",
    "\n",
    "# Set results path  \n",
    "test_type = 'logical'\n",
    "results_folder = f'results/{test_type}/TheBloke/llemma_34b-AWQ'\n",
    "results_name = 'results_5shot_cot.csv'\n",
    "file_path = os.path.join(results_folder, results_name)\n",
    "\n",
    "# Read results \n",
    "df = pd.read_csv(file_path)\n",
    "\n",
    "# Convert specifc column to NymPy Array \n",
    "predictions_acc = df['is_correct'].to_numpy() \n",
    "\n",
    "# Calculate average accuracy \n",
    "accuracy = np.nanmean(predictions_acc) \n",
    "failure_rate = np.mean(np.isnan(predictions_acc))\n",
    "print(\"Prediction Accuracy: \", accuracy)\n",
    "print(\"Failure Rate: \", failure_rate)"
   ]
  },
  {
   "cell_type": "markdown",
   "metadata": {},
   "source": [
    "# Basic 3-Shot"
   ]
  },
  {
   "cell_type": "code",
   "execution_count": 9,
   "metadata": {},
   "outputs": [
    {
     "name": "stdout",
     "output_type": "stream",
     "text": [
      "Prediction Accuracy:  0.644\n",
      "Failure Rate:  0.0\n"
     ]
    }
   ],
   "source": [
    "import pandas as pd \n",
    "import numpy as np \n",
    "import os \n",
    "\n",
    "os.chdir('/w/246/ikozlov/csc2542-project')\n",
    "\n",
    "# Set results path  \n",
    "test_type = 'basic'\n",
    "results_folder = f'results/{test_type}/TheBloke/llemma_34b-AWQ'\n",
    "results_name = 'results_3shot.csv'\n",
    "file_path = os.path.join(results_folder, results_name)\n",
    "\n",
    "# Read results \n",
    "df = pd.read_csv(file_path)\n",
    "\n",
    "# Convert specifc column to NymPy Array \n",
    "predictions_acc = df['is_correct'].to_numpy() \n",
    "\n",
    "# Calculate average accuracy \n",
    "accuracy = np.nanmean(predictions_acc) \n",
    "failure_rate = np.mean(np.isnan(predictions_acc))\n",
    "print(\"Prediction Accuracy: \", accuracy)\n",
    "print(\"Failure Rate: \", failure_rate)"
   ]
  },
  {
   "cell_type": "markdown",
   "metadata": {},
   "source": [
    "# Basic 3-Shot CoT"
   ]
  },
  {
   "cell_type": "code",
   "execution_count": 10,
   "metadata": {},
   "outputs": [
    {
     "name": "stderr",
     "output_type": "stream",
     "text": [
      "/tmp/ipykernel_3913438/2912167805.py:20: RuntimeWarning: Mean of empty slice\n",
      "  accuracy = np.nanmean(predictions_acc)\n"
     ]
    },
    {
     "ename": "TypeError",
     "evalue": "ufunc 'isnan' not supported for the input types, and the inputs could not be safely coerced to any supported types according to the casting rule ''safe''",
     "output_type": "error",
     "traceback": [
      "\u001b[0;31m---------------------------------------------------------------------------\u001b[0m",
      "\u001b[0;31mTypeError\u001b[0m                                 Traceback (most recent call last)",
      "Cell \u001b[0;32mIn[10], line 21\u001b[0m\n\u001b[1;32m     19\u001b[0m \u001b[38;5;66;03m# Calculate average accuracy \u001b[39;00m\n\u001b[1;32m     20\u001b[0m accuracy \u001b[38;5;241m=\u001b[39m np\u001b[38;5;241m.\u001b[39mnanmean(predictions_acc) \n\u001b[0;32m---> 21\u001b[0m failure_rate \u001b[38;5;241m=\u001b[39m np\u001b[38;5;241m.\u001b[39mmean(\u001b[43mnp\u001b[49m\u001b[38;5;241;43m.\u001b[39;49m\u001b[43misnan\u001b[49m\u001b[43m(\u001b[49m\u001b[43mpredictions_acc\u001b[49m\u001b[43m)\u001b[49m)\n\u001b[1;32m     22\u001b[0m \u001b[38;5;28mprint\u001b[39m(\u001b[38;5;124m\"\u001b[39m\u001b[38;5;124mPrediction Accuracy: \u001b[39m\u001b[38;5;124m\"\u001b[39m, accuracy)\n\u001b[1;32m     23\u001b[0m \u001b[38;5;28mprint\u001b[39m(\u001b[38;5;124m\"\u001b[39m\u001b[38;5;124mFailure Rate: \u001b[39m\u001b[38;5;124m\"\u001b[39m, failure_rate)\n",
      "\u001b[0;31mTypeError\u001b[0m: ufunc 'isnan' not supported for the input types, and the inputs could not be safely coerced to any supported types according to the casting rule ''safe''"
     ]
    }
   ],
   "source": [
    "import pandas as pd \n",
    "import numpy as np \n",
    "import os \n",
    "\n",
    "os.chdir('/w/246/ikozlov/csc2542-project')\n",
    "\n",
    "# Set results path  \n",
    "test_type = 'basic'\n",
    "results_folder = f'results/{test_type}/TheBloke/llemma_34b-AWQ'\n",
    "results_name = 'mixed_reasoning_3shot_cot.csv'\n",
    "file_path = os.path.join(results_folder, results_name)\n",
    "\n",
    "# Read results \n",
    "df = pd.read_csv(file_path)\n",
    "\n",
    "# Convert specifc column to NymPy Array \n",
    "predictions_acc = df['is_correct'].to_numpy() \n",
    "\n",
    "# Calculate average accuracy \n",
    "accuracy = np.nanmean(predictions_acc) \n",
    "failure_rate = np.mean(np.isnan(predictions_acc))\n",
    "print(\"Prediction Accuracy: \", accuracy)\n",
    "print(\"Failure Rate: \", failure_rate)"
   ]
  },
  {
   "cell_type": "markdown",
   "metadata": {},
   "source": [
    "# Logical 3-Shot Plus CoT1 (Mixed Reasoning):"
   ]
  },
  {
   "cell_type": "code",
   "execution_count": 2,
   "metadata": {},
   "outputs": [
    {
     "name": "stdout",
     "output_type": "stream",
     "text": [
      "Prediction Accuracy:  0.6569037656903766\n",
      "Failure Rate:  0.044\n"
     ]
    }
   ],
   "source": [
    "import pandas as pd \n",
    "import numpy as np \n",
    "import os \n",
    "\n",
    "os.chdir('/w/246/ikozlov/csc2542-project')\n",
    "\n",
    "# Set results path  \n",
    "test_type = 'logical'\n",
    "results_folder = f'results/{test_type}/TheBloke/llemma_34b-AWQ'\n",
    "results_name = 'mixed_reasoning_3shot_cot.csv'\n",
    "file_path = os.path.join(results_folder, results_name)\n",
    "\n",
    "# Read results \n",
    "df = pd.read_csv(file_path)\n",
    "\n",
    "# Convert specifc column to NymPy Array \n",
    "predictions_acc = df['is_correct'].to_numpy() \n",
    "\n",
    "# Calculate average accuracy \n",
    "accuracy = np.nanmean(predictions_acc) \n",
    "failure_rate = np.mean(np.isnan(predictions_acc))\n",
    "print(\"Prediction Accuracy: \", accuracy)\n",
    "print(\"Failure Rate: \", failure_rate)"
   ]
  },
  {
   "cell_type": "markdown",
   "metadata": {},
   "source": [
    "# Logical 3-Shot Plus CoT2 (Mixed Reasoning):"
   ]
  },
  {
   "cell_type": "code",
   "execution_count": 14,
   "metadata": {},
   "outputs": [
    {
     "name": "stdout",
     "output_type": "stream",
     "text": [
      "Prediction Accuracy:  0.65439672801636\n",
      "Failure Rate:  0.022\n"
     ]
    }
   ],
   "source": [
    "import pandas as pd \n",
    "import numpy as np \n",
    "import os \n",
    "\n",
    "os.chdir('/w/246/ikozlov/csc2542-project')\n",
    "\n",
    "# Set results path  \n",
    "test_type = 'logical'\n",
    "results_folder = f'results/{test_type}/TheBloke/llemma_34b-AWQ'\n",
    "results_name = 'mixed_reasoning_3shot_cot.csv'\n",
    "file_path = os.path.join(results_folder, results_name)\n",
    "\n",
    "# Read results \n",
    "df = pd.read_csv(file_path)\n",
    "\n",
    "# Convert specifc column to NymPy Array \n",
    "predictions_acc = df['is_correct'].to_numpy() \n",
    "\n",
    "# Calculate average accuracy \n",
    "accuracy = np.nanmean(predictions_acc) \n",
    "failure_rate = np.mean(np.isnan(predictions_acc))\n",
    "print(\"Prediction Accuracy: \", accuracy)\n",
    "print(\"Failure Rate: \", failure_rate)"
   ]
  },
  {
   "cell_type": "markdown",
   "metadata": {},
   "source": [
    "# Logical 5-Shot Plus CoT2 (Mixed Reasoning):"
   ]
  },
  {
   "cell_type": "code",
   "execution_count": 15,
   "metadata": {},
   "outputs": [
    {
     "name": "stdout",
     "output_type": "stream",
     "text": [
      "Prediction Accuracy:  0.6997971602434077\n",
      "Failure Rate:  0.014\n"
     ]
    }
   ],
   "source": [
    "import pandas as pd \n",
    "import numpy as np \n",
    "import os \n",
    "\n",
    "os.chdir('/w/246/ikozlov/csc2542-project')\n",
    "\n",
    "# Set results path  \n",
    "test_type = 'logical'\n",
    "results_folder = f'results/{test_type}/TheBloke/llemma_34b-AWQ'\n",
    "results_name = 'mixed_reasoning_5shot_cot.csv'\n",
    "file_path = os.path.join(results_folder, results_name)\n",
    "\n",
    "# Read results \n",
    "df = pd.read_csv(file_path)\n",
    "\n",
    "# Convert specifc column to NymPy Array \n",
    "predictions_acc = df['is_correct'].to_numpy() \n",
    "\n",
    "# Calculate average accuracy \n",
    "accuracy = np.nanmean(predictions_acc) \n",
    "failure_rate = np.mean(np.isnan(predictions_acc))\n",
    "print(\"Prediction Accuracy: \", accuracy)\n",
    "print(\"Failure Rate: \", failure_rate)"
   ]
  },
  {
   "cell_type": "markdown",
   "metadata": {},
   "source": [
    "# Logical 3-Shot (Mixed Reasoning):"
   ]
  },
  {
   "cell_type": "code",
   "execution_count": 13,
   "metadata": {},
   "outputs": [
    {
     "name": "stdout",
     "output_type": "stream",
     "text": [
      "Prediction Accuracy:  0.594059405940594\n",
      "Failure Rate:  0.7029411764705882\n"
     ]
    }
   ],
   "source": [
    "import pandas as pd \n",
    "import numpy as np \n",
    "import os \n",
    "\n",
    "os.chdir('/w/246/ikozlov/csc2542-project')\n",
    "\n",
    "# Set results path  \n",
    "test_type = 'logical'\n",
    "results_folder = f'results/{test_type}/TheBloke/llemma_34b-AWQ'\n",
    "results_name = 'mixed_reasoning_3shot.csv'\n",
    "file_path = os.path.join(results_folder, results_name)\n",
    "\n",
    "# Read results \n",
    "df = pd.read_csv(file_path)\n",
    "\n",
    "# Convert specifc column to NymPy Array \n",
    "predictions_acc = df['is_correct'].to_numpy() \n",
    "\n",
    "# Calculate average accuracy \n",
    "accuracy = np.nanmean(predictions_acc) \n",
    "failure_rate = np.mean(np.isnan(predictions_acc))\n",
    "print(\"Prediction Accuracy: \", accuracy)\n",
    "print(\"Failure Rate: \", failure_rate)"
   ]
  },
  {
   "cell_type": "markdown",
   "metadata": {},
   "source": [
    "# Basic 3-Shot (Mixed Reasoning)"
   ]
  },
  {
   "cell_type": "code",
   "execution_count": 12,
   "metadata": {},
   "outputs": [
    {
     "name": "stdout",
     "output_type": "stream",
     "text": [
      "Prediction Accuracy:  0.47764227642276424\n",
      "Failure Rate:  0.016\n"
     ]
    }
   ],
   "source": [
    "import pandas as pd \n",
    "import numpy as np \n",
    "import os \n",
    "\n",
    "os.chdir('/w/246/ikozlov/csc2542-project')\n",
    "\n",
    "# Set results path  \n",
    "test_type = 'basic'\n",
    "results_folder = f'results/{test_type}/TheBloke/llemma_34b-AWQ'\n",
    "results_name = 'mixed_reasoning_3shot.csv'\n",
    "file_path = os.path.join(results_folder, results_name)\n",
    "\n",
    "# Read results \n",
    "df = pd.read_csv(file_path)\n",
    "\n",
    "# Convert specifc column to NymPy Array \n",
    "predictions_acc = df['is_correct'].to_numpy() \n",
    "\n",
    "# Calculate average accuracy \n",
    "accuracy = np.nanmean(predictions_acc) \n",
    "failure_rate = np.mean(np.isnan(predictions_acc))\n",
    "print(\"Prediction Accuracy: \", accuracy)\n",
    "print(\"Failure Rate: \", failure_rate)"
   ]
  },
  {
   "cell_type": "markdown",
   "metadata": {},
   "source": [
    "# Basic 5-Shot (Mixed Reasoning)"
   ]
  },
  {
   "cell_type": "code",
   "execution_count": 17,
   "metadata": {},
   "outputs": [
    {
     "name": "stdout",
     "output_type": "stream",
     "text": [
      "Prediction Accuracy:  0.522633744855967\n",
      "Failure Rate:  0.028\n"
     ]
    }
   ],
   "source": [
    "import pandas as pd \n",
    "import numpy as np \n",
    "import os \n",
    "\n",
    "os.chdir('/w/246/ikozlov/csc2542-project')\n",
    "\n",
    "# Set results path  \n",
    "test_type = 'basic'\n",
    "results_folder = f'results/{test_type}/TheBloke/llemma_34b-AWQ'\n",
    "results_name = 'mixed_reasoning_5shot.csv'\n",
    "file_path = os.path.join(results_folder, results_name)\n",
    "\n",
    "# Read results \n",
    "df = pd.read_csv(file_path)\n",
    "\n",
    "# Convert specifc column to NymPy Array \n",
    "predictions_acc = df['is_correct'].to_numpy() \n",
    "\n",
    "# Calculate average accuracy \n",
    "accuracy = np.nanmean(predictions_acc) \n",
    "failure_rate = np.mean(np.isnan(predictions_acc))\n",
    "print(\"Prediction Accuracy: \", accuracy)\n",
    "print(\"Failure Rate: \", failure_rate)"
   ]
  },
  {
   "cell_type": "markdown",
   "metadata": {},
   "source": [
    "# Basic 3-Shot CoT (Mixed Reasoning)"
   ]
  },
  {
   "cell_type": "code",
   "execution_count": 11,
   "metadata": {},
   "outputs": [
    {
     "name": "stdout",
     "output_type": "stream",
     "text": [
      "Prediction Accuracy:  0.5050301810865191\n",
      "Failure Rate:  0.006\n"
     ]
    }
   ],
   "source": [
    "import pandas as pd \n",
    "import numpy as np \n",
    "import os \n",
    "\n",
    "os.chdir('/w/246/ikozlov/csc2542-project')\n",
    "\n",
    "# Set results path  \n",
    "test_type = 'basic'\n",
    "results_folder = f'results/{test_type}/TheBloke/llemma_34b-AWQ'\n",
    "results_name = 'mixed_reasoning_3shot_cot.csv'\n",
    "file_path = os.path.join(results_folder, results_name)\n",
    "\n",
    "# Read results \n",
    "df = pd.read_csv(file_path)\n",
    "\n",
    "# Convert specifc column to NymPy Array \n",
    "predictions_acc = df['is_correct'].to_numpy() \n",
    "\n",
    "# Calculate average accuracy \n",
    "accuracy = np.nanmean(predictions_acc) \n",
    "failure_rate = np.mean(np.isnan(predictions_acc))\n",
    "print(\"Prediction Accuracy: \", accuracy)\n",
    "print(\"Failure Rate: \", failure_rate)"
   ]
  },
  {
   "cell_type": "markdown",
   "metadata": {},
   "source": [
    "# Basic 5-Shot CoT (Mixed Reasoning)"
   ]
  },
  {
   "cell_type": "code",
   "execution_count": 1,
   "metadata": {},
   "outputs": [
    {
     "name": "stdout",
     "output_type": "stream",
     "text": [
      "Prediction Accuracy:  0.5443548387096774\n",
      "Failure Rate:  0.008\n"
     ]
    }
   ],
   "source": [
    "import pandas as pd \n",
    "import numpy as np \n",
    "import os \n",
    "\n",
    "os.chdir('/w/246/ikozlov/csc2542-project')\n",
    "\n",
    "# Set results path  \n",
    "test_type = 'basic'\n",
    "results_folder = f'results/{test_type}/TheBloke/llemma_34b-AWQ'\n",
    "results_name = 'mixed_reasoning_5shot_cot.csv'\n",
    "file_path = os.path.join(results_folder, results_name)\n",
    "\n",
    "# Read results \n",
    "df = pd.read_csv(file_path)\n",
    "\n",
    "# Convert specifc column to NymPy Array \n",
    "predictions_acc = df['is_correct'].to_numpy() \n",
    "\n",
    "# Calculate average accuracy \n",
    "accuracy = np.nanmean(predictions_acc) \n",
    "failure_rate = np.mean(np.isnan(predictions_acc))\n",
    "print(\"Prediction Accuracy: \", accuracy)\n",
    "print(\"Failure Rate: \", failure_rate)"
   ]
  },
  {
   "cell_type": "markdown",
   "metadata": {},
   "source": [
    "# 3-shot GPT 3.5 Turbo:"
   ]
  },
  {
   "cell_type": "code",
   "execution_count": 1,
   "metadata": {},
   "outputs": [
    {
     "name": "stdout",
     "output_type": "stream",
     "text": [
      "Prediction Accuracy:  0.611484422724496\n",
      "Failure Rate:  0.001829268292682927\n"
     ]
    }
   ],
   "source": [
    "import pandas as pd \n",
    "import numpy as np \n",
    "import os \n",
    "\n",
    "os.chdir('/w/246/ikozlov/csc2542-project')\n",
    "\n",
    "# Set results path  \n",
    "test_type = 'basic'\n",
    "results_folder = f'results/{test_type}/gpt-3.5-turbo'\n",
    "results_name = 'task_3shot.csv'\n",
    "file_path = os.path.join(results_folder, results_name)\n",
    "\n",
    "# Read results \n",
    "df = pd.read_csv(file_path)\n",
    "\n",
    "# Convert specifc column to NymPy Array \n",
    "predictions_acc = df['is_correct'].to_numpy() \n",
    "\n",
    "# Calculate average accuracy \n",
    "accuracy = np.nanmean(predictions_acc) \n",
    "failure_rate = np.mean(np.isnan(predictions_acc))\n",
    "print(\"Prediction Accuracy: \", accuracy)\n",
    "print(\"Failure Rate: \", failure_rate)"
   ]
  },
  {
   "cell_type": "markdown",
   "metadata": {},
   "source": [
    "# 3-shot CoT GPT 3.5 Turbo:"
   ]
  },
  {
   "cell_type": "code",
   "execution_count": 1,
   "metadata": {},
   "outputs": [
    {
     "name": "stdout",
     "output_type": "stream",
     "text": [
      "Prediction Accuracy:  0.7527839643652561\n",
      "Failure Rate:  0.012463343108504398\n"
     ]
    }
   ],
   "source": [
    "import pandas as pd \n",
    "import numpy as np \n",
    "import os \n",
    "\n",
    "os.chdir('/w/246/ikozlov/csc2542-project')\n",
    "\n",
    "# Set results path  \n",
    "test_type = 'basic'\n",
    "results_folder = f'results/{test_type}/gpt-3.5-turbo'\n",
    "results_name = 'task_3shot_cot.csv'\n",
    "file_path = os.path.join(results_folder, results_name)\n",
    "\n",
    "# Read results \n",
    "df = pd.read_csv(file_path)\n",
    "\n",
    "# Convert specifc column to NymPy Array \n",
    "predictions_acc = df['is_correct'].to_numpy() \n",
    "\n",
    "# Calculate average accuracy \n",
    "accuracy = np.nanmean(predictions_acc) \n",
    "failure_rate = np.mean(np.isnan(predictions_acc))\n",
    "print(\"Prediction Accuracy: \", accuracy)\n",
    "print(\"Failure Rate: \", failure_rate)"
   ]
  },
  {
   "cell_type": "markdown",
   "metadata": {},
   "source": [
    "# 3-Shot GPT 3.5 Turbo (Mixed Reasoning):"
   ]
  },
  {
   "cell_type": "code",
   "execution_count": 3,
   "metadata": {},
   "outputs": [
    {
     "name": "stdout",
     "output_type": "stream",
     "text": [
      "Prediction Accuracy:  0.6157205240174672\n",
      "Failure Rate:  0.0\n"
     ]
    }
   ],
   "source": [
    "import pandas as pd \n",
    "import numpy as np \n",
    "import os \n",
    "\n",
    "os.chdir('/w/246/ikozlov/csc2542-project')\n",
    "\n",
    "# Set results path  \n",
    "test_type = 'basic'\n",
    "results_folder = f'results/{test_type}/gpt-3.5-turbo'\n",
    "results_name = 'mixed_reasoning_3shot.csv'\n",
    "file_path = os.path.join(results_folder, results_name)\n",
    "\n",
    "# Read results \n",
    "df = pd.read_csv(file_path)\n",
    "\n",
    "# Convert specifc column to NymPy Array \n",
    "predictions_acc = df['is_correct'].to_numpy() \n",
    "\n",
    "# Calculate average accuracy \n",
    "accuracy = np.nanmean(predictions_acc) \n",
    "failure_rate = np.mean(np.isnan(predictions_acc))\n",
    "print(\"Prediction Accuracy: \", accuracy)\n",
    "print(\"Failure Rate: \", failure_rate)"
   ]
  },
  {
   "cell_type": "markdown",
   "metadata": {},
   "source": [
    "# 3-Shot CoT GPT 3.5 Turbo (Mixed Reasoning):"
   ]
  },
  {
   "cell_type": "code",
   "execution_count": 4,
   "metadata": {},
   "outputs": [
    {
     "name": "stdout",
     "output_type": "stream",
     "text": [
      "Prediction Accuracy:  0.4\n",
      "Failure Rate:  0.0\n"
     ]
    }
   ],
   "source": [
    "import pandas as pd \n",
    "import numpy as np \n",
    "import os \n",
    "\n",
    "os.chdir('/w/246/ikozlov/csc2542-project')\n",
    "\n",
    "# Set results path  \n",
    "test_type = 'basic'\n",
    "results_folder = f'results/{test_type}/gpt-3.5-turbo'\n",
    "results_name = 'mixed_reasoning_3shot_cot.csv'\n",
    "file_path = os.path.join(results_folder, results_name)\n",
    "\n",
    "# Read results \n",
    "df = pd.read_csv(file_path)\n",
    "\n",
    "# Convert specifc column to NymPy Array \n",
    "predictions_acc = df['is_correct'].to_numpy() \n",
    "\n",
    "# Calculate average accuracy \n",
    "accuracy = np.nanmean(predictions_acc) \n",
    "failure_rate = np.mean(np.isnan(predictions_acc))\n",
    "print(\"Prediction Accuracy: \", accuracy)\n",
    "print(\"Failure Rate: \", failure_rate)"
   ]
  }
 ],
 "metadata": {
  "kernelspec": {
   "display_name": "base",
   "language": "python",
   "name": "python3"
  },
  "language_info": {
   "codemirror_mode": {
    "name": "ipython",
    "version": 3
   },
   "file_extension": ".py",
   "mimetype": "text/x-python",
   "name": "python",
   "nbconvert_exporter": "python",
   "pygments_lexer": "ipython3",
   "version": "3.10.12"
  }
 },
 "nbformat": 4,
 "nbformat_minor": 2
}
